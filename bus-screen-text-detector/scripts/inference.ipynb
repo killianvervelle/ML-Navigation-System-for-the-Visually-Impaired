{
 "cells": [
  {
   "cell_type": "code",
   "execution_count": 1,
   "id": "2e99671e-4c3d-4140-97c1-586395ed0943",
   "metadata": {},
   "outputs": [],
   "source": [
    "import argparse\n",
    "import gradio as gr\n",
    "import torch\n",
    "from PIL import Image\n",
    "\n",
    "from donut import DonutModel"
   ]
  },
  {
   "cell_type": "code",
   "execution_count": 2,
   "id": "8b9d7e27-cfa5-4e71-bc96-70b787a91e09",
   "metadata": {},
   "outputs": [],
   "source": [
    "task_prompt = f\"<s_4_dataset>\"\n",
    "\n",
    "\n",
    "def demo_process(input_img):\n",
    "    global pretrained_model, task_prompt, task_name\n",
    "    input_img = Image.fromarray(input_img)\n",
    "    output = pretrained_model.inference(image=input_img, prompt=task_prompt)[\"predictions\"][0]\n",
    "    return output"
   ]
  },
  {
   "cell_type": "code",
   "execution_count": 3,
   "id": "f699ddc7-6c4e-4dae-b6e4-012bd5c39e8c",
   "metadata": {},
   "outputs": [
    {
     "name": "stderr",
     "output_type": "stream",
     "text": [
      "/data/users/thomas.phung/donut/venv/lib/python3.8/site-packages/torch/functional.py:504: UserWarning: torch.meshgrid: in an upcoming release, it will be required to pass the indexing argument. (Triggered internally at ../aten/src/ATen/native/TensorShape.cpp:3190.)\n",
      "  return _VF.meshgrid(tensors, **kwargs)  # type: ignore[attr-defined]\n"
     ]
    },
    {
     "name": "stdout",
     "output_type": "stream",
     "text": [
      "IMPORTANT: You are using gradio version 3.10.1, however version 3.14.0 is available, please upgrade.\n",
      "--------\n",
      "Running on local URL:  http://127.0.0.1:8800\n",
      "\n",
      "To create a public link, set `share=True` in `launch()`.\n"
     ]
    },
    {
     "data": {
      "text/html": [
       "<div><iframe src=\"http://127.0.0.1:8800/\" width=\"100%\" height=\"500\" allow=\"autoplay; camera; microphone; clipboard-read; clipboard-write;\" frameborder=\"0\" allowfullscreen></iframe></div>"
      ],
      "text/plain": [
       "<IPython.core.display.HTML object>"
      ]
     },
     "metadata": {},
     "output_type": "display_data"
    },
    {
     "data": {
      "text/plain": []
     },
     "execution_count": 3,
     "metadata": {},
     "output_type": "execute_result"
    }
   ],
   "source": [
    "\n",
    "#pretrained_model = DonutModel.from_pretrained(\"./donut/result/train_invoices_v1_full/test_eyetek_invoices_full\")\n",
    "pretrained_model = DonutModel.from_pretrained(\"../runs/train_bus/exp1\")\n",
    "\n",
    "if torch.cuda.is_available():\n",
    "    pretrained_model.half()\n",
    "    device = torch.device(\"cuda\")\n",
    "    pretrained_model.to(device)\n",
    "else:\n",
    "    pretrained_model.encoder.to(torch.bfloat16)\n",
    "\n",
    "pretrained_model.eval()\n",
    "\n",
    "demo = gr.Interface(\n",
    "    fn=demo_process,\n",
    "    inputs=\"image\",\n",
    "    outputs=\"json\",\n",
    "    title=f\"Factures\",\n",
    ")\n",
    "demo.launch(server_port=8800)"
   ]
  },
  {
   "cell_type": "code",
   "execution_count": null,
   "id": "0fb3052f-f40b-4a27-854c-a399e2f8b3ca",
   "metadata": {},
   "outputs": [],
   "source": []
  },
  {
   "cell_type": "code",
   "execution_count": null,
   "id": "c7bb824c",
   "metadata": {},
   "outputs": [],
   "source": []
  },
  {
   "cell_type": "code",
   "execution_count": null,
   "id": "6d4d8dab",
   "metadata": {},
   "outputs": [],
   "source": []
  }
 ],
 "metadata": {
  "kernelspec": {
   "display_name": "Python 3 (ipykernel)",
   "language": "python",
   "name": "python3"
  },
  "language_info": {
   "codemirror_mode": {
    "name": "ipython",
    "version": 3
   },
   "file_extension": ".py",
   "mimetype": "text/x-python",
   "name": "python",
   "nbconvert_exporter": "python",
   "pygments_lexer": "ipython3",
   "version": "3.8.10"
  }
 },
 "nbformat": 4,
 "nbformat_minor": 5
}
