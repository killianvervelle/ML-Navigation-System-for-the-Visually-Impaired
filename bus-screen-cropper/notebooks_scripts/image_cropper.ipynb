{
 "cells": [
  {
   "cell_type": "code",
   "execution_count": 1,
   "id": "be51b4cc",
   "metadata": {},
   "outputs": [],
   "source": [
    "import torch\n",
    "import cv2\n",
    "from PIL import Image\n",
    "import os"
   ]
  },
  {
   "cell_type": "code",
   "execution_count": 11,
   "id": "f360bdb8",
   "metadata": {},
   "outputs": [
    {
     "name": "stdout",
     "output_type": "stream",
     "text": [
      "../data/3_labellized/val/images/f2031d74-20230330-tpf-fribourg-nr-4-fr-27072.jpg\n",
      "../data/3_labellized/val/images/1ab07f1b-20230330-tpf-mercedes-citaro-nr383-70723.jpg\n",
      "../data/3_labellized/val/images/ee95f003-20230330-tpf-fribourg-350fr-300418-man-10954.jpg\n",
      "../data/3_labellized/val/images/1cbafa0b-20230330-auch-mehrere-jahre-nach-fusion-46281.jpg\n",
      "../data/3_labellized/val/images/0d4a8452-20230330-tpf-hess-swisstrolleybus-nr525-unter.jpg\n",
      "../data/3_labellized/val/images/00fcf273-20230330-1-5.jpg\n",
      "../data/3_labellized/val/images/ea854ebe-20230330-6091838160db387e09ee50058fdb9bb9.jpg\n",
      "../data/3_labellized/val/images/2dcd8c84-20230330-tpf-mercedes-citaro-nr82-13271.jpg\n",
      "../data/3_labellized/val/images/3de65fc1-20230330-2013-04-04_Fribourg_0534_1a.jpg\n",
      "../data/3_labellized/val/images/fa46d230-20230330-2-9.jpg\n",
      "../data/3_labellized/val/images/ee944371-20230330-tpf-volvo-8700-nr18-70883.jpg\n",
      "../data/3_labellized/val/images/f32562bd-20230330-tpf_520.jpg\n",
      "../data/3_labellized/val/images/2db00b99-20230330-tpf-fribourg-nr-527-90432.jpg\n",
      "../data/3_labellized/val/images/fbb5589d-20230330-2615644.jpg\n",
      "../data/3_labellized/val/images/00bd63bd-20230330-tpf-volvo-8700-nr102-100278.jpg\n",
      "../data/3_labellized/val/images/3bb4a01d-20230330-3-7.jpg\n",
      "../data/3_labellized/val/images/f496ad43-20230330-tpf-507a6gx.jpg\n",
      "../data/3_labellized/val/images/1e841dbe-20230330-14-1.jpg\n",
      "../data/3_labellized/val/images/0af06166-20230330-7.jpg\n",
      "../data/3_labellized/val/images/2fa1903e-20230330-tpf-trolleybus-513-unterwegs-154966.jpg\n",
      "../data/3_labellized/val/images/2e2c440d-20230330-4755748_orig.jpg\n",
      "../data/3_labellized/val/images/f42989b3-20230330-18.jpg\n",
      "../data/3_labellized/val/images/2a04b4ae-20230330-tpf-volvo-hess-trolleybus-nr502-3610.jpg\n",
      "../data/3_labellized/val/images/edaf9ccc-20230330-tpf-nr-527-hess-swisstrolley-164695.jpg\n",
      "../data/3_labellized/val/images/0e59475b-20230330-tpf13x.jpg\n",
      "../data/3_labellized/val/images/ee7b5bfc-20230330-4-1.jpg\n",
      "../data/3_labellized/val/images/f5da857b-20230330-tpf-hess-trolleybus-nr-190635.jpg\n",
      "../data/3_labellized/val/images/2af13718-20230330-10-2.jpg\n",
      "../data/3_labellized/val/images/2bfa639e-20230330-20170506_095522.jpg\n",
      "../data/3_labellized/val/images/3c9b43f9-20230330-4.jpg\n",
      "../data/3_labellized/val/images/2edaadea-20230330-169202_orig.jpg\n",
      "../data/3_labellized/val/images/efa245cb-20230330-transport_030420awi_07.jpg\n",
      "../data/3_labellized/val/images/ff82b6d9-20230330-tpf-fribourg-nr-590fr-300380-52760.jpg\n",
      "../data/3_labellized/val/images/1f6e415b-20230330-bus_web.jpg\n",
      "../data/3_labellized/val/images/0a81b9fe-20230330-tpf.jpg\n",
      "../data/3_labellized/val/images/ff768bba-20230330-tpf-volvo-8700-nr105-71073.jpg\n",
      "../data/3_labellized/val/images/f8543dc9-20230330-0.97118400_1340382719.jpg\n",
      "../data/3_labellized/val/images/f50ecf50-20230330-tpf-volvo-8700-bus-13876.jpg\n",
      "../data/3_labellized/val/images/f250affd-20230330-tpf-mercedes-citaro-nr1020-188986.jpg\n",
      "../data/3_labellized/val/images/0ed201ad-20230330-CHFR300441.jpg\n",
      "../data/3_labellized/val/images/eeaf1794-20230330-tpf-trolleybus-nr521-fr-137130.jpg\n",
      "../data/3_labellized/val/images/ed746c10-20230330-4-8.jpg\n",
      "../data/3_labellized/val/images/e567980f-20230330-4-5.jpg\n",
      "../data/3_labellized/val/images/e098223e-20230330-tpf-fribourg-nr-599fr-300420-52640.jpg\n",
      "../data/3_labellized/val/images/2d444850-20230330-201017_Palezieux_bus_TPF.JPG\n",
      "../data/3_labellized/val/images/fe41c0e4-20230330-tpf_513.jpg\n",
      "../data/3_labellized/val/images/3cebc3e8-20230330-tpf-fribourg-nr-524-69237.jpg\n",
      "../data/3_labellized/val/images/2cbc5445-20230330-201040-tpf-fribourg-wieland-646989.jpg\n",
      "../data/3_labellized/val/images/f99e33c2-20230330-201020-tpf-fribourg-wieland-646969.jpg\n",
      "../data/3_labellized/val/images/fb3b7f5d-20230330-tpf-mercedes-citaro-nr125-163096.jpg\n",
      "../data/3_labellized/val/images/2deffc29-20230330-tpf-353ode7.jpg\n",
      "../data/3_labellized/val/images/01ce03cf-20230330-bus-regionaux--regionalbusse.jpg\n",
      "../data/3_labellized/val/images/1b8fb4f9-20230330-5-5.jpg\n",
      "../data/3_labellized/val/images/0fe83d2c-20230330-tpf-fribourg-nr-597fr-300399-52646.jpg\n",
      "../data/3_labellized/val/images/3dc7da10-20230330-tpf-mercedes-citaro-nr560-155534.jpg\n",
      "../data/3_labellized/val/images/ede05553-20230330-195613-tpf-fribourg--625316.jpg\n",
      "../data/3_labellized/val/images/eb9ec36f-20230330-tpf-volvo-8700-bus-13274.jpg\n",
      "../data/3_labellized/val/images/f499177b-20230330-tpf-mercedes-citaro-nr594-104995.jpg\n",
      "../data/3_labellized/val/images/f8ea9a14-20230330-tpf-mercedes-citaro-nr84-128751.jpg\n"
     ]
    }
   ],
   "source": [
    "path_dir = \"../data/3_labellized/val/images\"\n",
    "for image_path in os.listdir(path_dir):\n",
    "    if image_path[0] != \".\" :\n",
    "        path = os.path.join(path_dir, image_path)\n",
    "        path_label = path.replace(\"/images/\", \"/labels/\")\n",
    "        path_label = path_label.replace(\".jpeg\", \".txt\")\n",
    "        path_label = path_label.replace(\".jpg\", \".txt\")\n",
    "        path_label = path_label.replace(\".JPG\", \".txt\")\n",
    "        path_label = path_label.replace(\".png\", \".txt\")\n",
    "        name = image_path.split(\".\")[0]\n",
    "        image = cv2.imread(path)\n",
    "        print(path)\n",
    "        lh,lw,_ = image.shape\n",
    "\n",
    "        i = 0\n",
    "        f = open(path_label, \"r\")\n",
    "        for line in f:\n",
    "            line_split = line.split()\n",
    "            # now take your coordinates\n",
    "            x,y,w,h = float(line_split[1]), float(line_split[2]), float(line_split[3]), float(line_split[4])\n",
    "            x,y,w,h = int(x*lw - w*lw/2), int(y*lh - h*lh/2), int(w*lw), int(h*lh) ## to match the bounding box coordinates with actual width, height\n",
    "\n",
    "            boxedImage = image[y:y+h, x:x+w]\n",
    "            cv2.imwrite(\"../data/4_cropped/\" + name +  \"_\" + str(i) +\".jpg\", boxedImage)\n",
    "            i += 1"
   ]
  },
  {
   "cell_type": "code",
   "execution_count": null,
   "id": "b5e2df02",
   "metadata": {},
   "outputs": [],
   "source": []
  }
 ],
 "metadata": {
  "kernelspec": {
   "display_name": "Python 3 (ipykernel)",
   "language": "python",
   "name": "python3"
  },
  "language_info": {
   "codemirror_mode": {
    "name": "ipython",
    "version": 3
   },
   "file_extension": ".py",
   "mimetype": "text/x-python",
   "name": "python",
   "nbconvert_exporter": "python",
   "pygments_lexer": "ipython3",
   "version": "3.9.16"
  }
 },
 "nbformat": 4,
 "nbformat_minor": 5
}
