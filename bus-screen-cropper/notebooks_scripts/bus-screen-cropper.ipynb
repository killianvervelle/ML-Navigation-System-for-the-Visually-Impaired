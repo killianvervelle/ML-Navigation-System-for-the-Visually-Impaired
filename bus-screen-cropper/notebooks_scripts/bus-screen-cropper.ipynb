{
 "cells": [
  {
   "cell_type": "code",
   "execution_count": 50,
   "id": "5a96a507",
   "metadata": {},
   "outputs": [],
   "source": [
    "import torch\n",
    "import cv2\n",
    "from PIL import Image"
   ]
  },
  {
   "cell_type": "code",
   "execution_count": 96,
   "id": "d8e662ce",
   "metadata": {},
   "outputs": [
    {
     "name": "stderr",
     "output_type": "stream",
     "text": [
      "Using cache found in /Users/maelvial/.cache/torch/hub/ultralytics_yolov5_master\n",
      "YOLOv5 🚀 2022-10-19 Python-3.9.16 torch-2.0.0 CPU\n",
      "\n",
      "Loading ../weights/best_exp5.torchscript for TorchScript inference...\n",
      "Adding AutoShape... \n"
     ]
    }
   ],
   "source": [
    "#Parameters\n",
    "model_name = 'best_exp5.torchscript'\n",
    "PATH='../weights/' + model_name\n",
    "model = torch.hub.load('ultralytics/yolov5', 'custom', path=PATH)  # load the model only one time!\n",
    "model.conf = 0.5  # NMS confidence threshold\n",
    "model.iou = 0.5  # NMS IoU threshold"
   ]
  },
  {
   "cell_type": "code",
   "execution_count": 97,
   "id": "4eeaffa7",
   "metadata": {},
   "outputs": [],
   "source": [
    "#Prediction function, return the screen image with the best confidence or [] if there is no screen\n",
    "def get_best_screen(image):\n",
    "    model.cuda()\n",
    "    preds = model(image)\n",
    "    crops = preds.crop(save=False)\n",
    "    best_im = []\n",
    "    best_confidence = 0\n",
    "    \n",
    "    for crop in crops:\n",
    "        if crop['conf'] > best_confidence:\n",
    "            best_im = crop['im']\n",
    "            best_confidence = crop['conf']\n",
    "    \n",
    "    return best_im"
   ]
  },
  {
   "cell_type": "code",
   "execution_count": 98,
   "id": "06db8ff4",
   "metadata": {},
   "outputs": [],
   "source": [
    "# A changer en Base64 pour l'encapsulation\n",
    "image = cv2.imread('../data/image_3.png')\n",
    "res = get_best_screen(image)\n",
    "if len(res) == 0:\n",
    "    print(\"0 screen found\")\n",
    "else:\n",
    "    Image.fromarray(res[..., ::-1]).save(\"image_3.png\", quality=95, subsampling=0)"
   ]
  },
  {
   "cell_type": "code",
   "execution_count": null,
   "id": "3ac71e44",
   "metadata": {},
   "outputs": [],
   "source": []
  }
 ],
 "metadata": {
  "kernelspec": {
   "display_name": "Python 3 (ipykernel)",
   "language": "python",
   "name": "python3"
  },
  "language_info": {
   "codemirror_mode": {
    "name": "ipython",
    "version": 3
   },
   "file_extension": ".py",
   "mimetype": "text/x-python",
   "name": "python",
   "nbconvert_exporter": "python",
   "pygments_lexer": "ipython3",
   "version": "3.9.16"
  }
 },
 "nbformat": 4,
 "nbformat_minor": 5
}
