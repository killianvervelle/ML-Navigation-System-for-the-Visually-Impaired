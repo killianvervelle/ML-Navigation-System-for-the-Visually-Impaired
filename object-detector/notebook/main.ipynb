{
 "cells": [
  {
   "cell_type": "code",
   "execution_count": 30,
   "id": "97503ab0-be8a-4640-9f86-5d17dc11cd94",
   "metadata": {},
   "outputs": [],
   "source": [
    "%matplotlib inline\n",
    "import torch\n",
    "import torchvision\n",
    "import detectron2\n",
    "import fiftyone\n",
    "import wget\n",
    "import json\n",
    "import requests\n",
    "import predictor\n",
    "from PIL import Image\n",
    "import pandas as pd\n",
    "import numpy as np\n",
    "import os, json, cv2, random\n",
    "import matplotlib.pyplot as plt\n",
    "from detectron2.utils.logger import setup_logger\n",
    "from detectron2 import model_zoo\n",
    "from detectron2.engine import DefaultPredictor\n",
    "from detectron2.config import get_cfg\n",
    "from detectron2.utils.visualizer import Visualizer\n",
    "from detectron2.data import MetadataCatalog, DatasetCatalog\n",
    "from detectron2.structures import BoxMode"
   ]
  },
  {
   "cell_type": "markdown",
   "id": "80e4da30-e2de-402d-974e-d59dfc474ce3",
   "metadata": {},
   "source": [
    "Using Pretrained model for Inference: Code"
   ]
  },
  {
   "cell_type": "code",
   "execution_count": 31,
   "id": "08fb607f-7a13-4d1e-979f-4fbcd71639f3",
   "metadata": {},
   "outputs": [],
   "source": [
    "# get image and reshape it to a conveniant size\n",
    "# foo = Image.open('images/bus.jpeg')\n",
    "# foo = foo.resize((640, 480), Image.ANTIALIAS)\n",
    "# foo.save('images/bus.jpeg', quality=95)\n",
    "\n",
    "path = 'images/bus.jpeg'\n",
    "img = cv2.imread(path)"
   ]
  },
  {
   "cell_type": "code",
   "execution_count": 32,
   "id": "7c1a6897-3ca4-4232-a81e-7c565f62782b",
   "metadata": {},
   "outputs": [],
   "source": [
    "# Create config\n",
    "cfg = get_cfg()\n",
    "cfg.MODEL.DEVICE='cpu'\n",
    "cfg.merge_from_file(\"/Users/killianvervelle/work/HES-SO/PI_VisionAid/detectron2/detectron2/configs/COCO-Detection/faster_rcnn_R_101_FPN_3x.yaml\")\n",
    "cfg.MODEL.ROI_HEADS.SCORE_THRESH_TEST = 0.8  # set threshold for this model\n",
    "cfg.MODEL.WEIGHTS = \"detectron2://COCO-Detection/faster_rcnn_R_101_FPN_3x/137851257/model_final_f6e8b1.pkl\"\n",
    "\n",
    "# Create predictor\n",
    "predictor = DefaultPredictor(cfg)\n",
    "\n",
    "# Make prediction\n",
    "outputs = predictor(img)"
   ]
  },
  {
   "cell_type": "code",
   "execution_count": 33,
   "id": "04e655c6-5537-4e5f-bd7b-89f892d5f951",
   "metadata": {},
   "outputs": [
    {
     "data": {
      "text/plain": [
       "True"
      ]
     },
     "execution_count": 33,
     "metadata": {},
     "output_type": "execute_result"
    }
   ],
   "source": [
    "v = Visualizer(img[:, :, ::-1], MetadataCatalog.get(cfg.DATASETS.TRAIN[0]), scale=1.2)\n",
    "v = v.draw_instance_predictions(outputs[\"instances\"].to(\"cpu\"))\n",
    "im = v.get_image()[:, :, ::-1]\n",
    "cv2.imshow(\"bus\", im)\n",
    "cv2.imwrite(\"images/bus_processed.jpg\", im)"
   ]
  },
  {
   "cell_type": "code",
   "execution_count": 115,
   "id": "459a37ef-bc4a-4481-8c3f-e3fb28fb7674",
   "metadata": {},
   "outputs": [
    {
     "data": {
      "text/plain": [
       "Instances(num_instances=10, image_height=480, image_width=640, fields=[pred_boxes: Boxes(tensor([[ 97.3907, 148.1846, 601.7126, 424.4240],\n",
       "        [  0.7684, 254.9417,  50.6755, 414.1727],\n",
       "        [ 60.0165, 245.5184,  96.0513, 404.6560],\n",
       "        [620.0663, 281.2089, 638.7627, 350.6890],\n",
       "        [ 81.6516, 262.9363, 117.2575, 411.5894],\n",
       "        [ 10.8220, 275.9824,  44.2571, 328.6751],\n",
       "        [ 78.0003, 331.7604,  95.0790, 363.1315],\n",
       "        [122.5023, 265.3639, 133.1837, 312.1026],\n",
       "        [ 38.0091, 271.3133,  65.6289, 397.5218],\n",
       "        [277.2604, 258.5847, 318.8430, 297.2078]])), scores: tensor([0.9987, 0.9908, 0.9836, 0.9835, 0.9664, 0.9595, 0.9472, 0.9434, 0.9104,\n",
       "        0.8316]), pred_classes: tensor([ 5,  0,  0,  0,  0, 24, 26,  0,  0,  0])])"
      ]
     },
     "execution_count": 115,
     "metadata": {},
     "output_type": "execute_result"
    }
   ],
   "source": [
    "test = outputs[\"instances\"].to(\"cpu\")\n",
    "test"
   ]
  },
  {
   "cell_type": "code",
   "execution_count": 116,
   "id": "c240a68f-7a92-4adc-b66a-dffd08ca1f13",
   "metadata": {},
   "outputs": [
    {
     "data": {
      "text/plain": [
       "[0.9986549615859985,\n",
       " 0.9908115863800049,\n",
       " 0.983623743057251,\n",
       " 0.9835221767425537,\n",
       " 0.9663916230201721,\n",
       " 0.9594699144363403,\n",
       " 0.9472321271896362,\n",
       " 0.9433847069740295,\n",
       " 0.9104428887367249,\n",
       " 0.8316048979759216]"
      ]
     },
     "execution_count": 116,
     "metadata": {},
     "output_type": "execute_result"
    }
   ],
   "source": [
    "test_scores = test.scores.tolist()\n",
    "test_scores"
   ]
  },
  {
   "cell_type": "code",
   "execution_count": 117,
   "id": "0cc738d7-ec85-4850-9555-3ce0b2bb5b0b",
   "metadata": {},
   "outputs": [
    {
     "data": {
      "text/html": [
       "<div>\n",
       "<style scoped>\n",
       "    .dataframe tbody tr th:only-of-type {\n",
       "        vertical-align: middle;\n",
       "    }\n",
       "\n",
       "    .dataframe tbody tr th {\n",
       "        vertical-align: top;\n",
       "    }\n",
       "\n",
       "    .dataframe thead th {\n",
       "        text-align: right;\n",
       "    }\n",
       "</style>\n",
       "<table border=\"1\" class=\"dataframe\">\n",
       "  <thead>\n",
       "    <tr style=\"text-align: right;\">\n",
       "      <th></th>\n",
       "      <th>0</th>\n",
       "      <th>1</th>\n",
       "      <th>2</th>\n",
       "      <th>3</th>\n",
       "    </tr>\n",
       "  </thead>\n",
       "  <tbody>\n",
       "    <tr>\n",
       "      <th>0</th>\n",
       "      <td>97.390724</td>\n",
       "      <td>148.184647</td>\n",
       "      <td>601.712585</td>\n",
       "      <td>424.423950</td>\n",
       "    </tr>\n",
       "    <tr>\n",
       "      <th>1</th>\n",
       "      <td>0.768425</td>\n",
       "      <td>254.941711</td>\n",
       "      <td>50.675457</td>\n",
       "      <td>414.172729</td>\n",
       "    </tr>\n",
       "    <tr>\n",
       "      <th>2</th>\n",
       "      <td>60.016541</td>\n",
       "      <td>245.518402</td>\n",
       "      <td>96.051254</td>\n",
       "      <td>404.655975</td>\n",
       "    </tr>\n",
       "    <tr>\n",
       "      <th>3</th>\n",
       "      <td>620.066284</td>\n",
       "      <td>281.208893</td>\n",
       "      <td>638.762695</td>\n",
       "      <td>350.688965</td>\n",
       "    </tr>\n",
       "    <tr>\n",
       "      <th>4</th>\n",
       "      <td>81.651619</td>\n",
       "      <td>262.936340</td>\n",
       "      <td>117.257454</td>\n",
       "      <td>411.589355</td>\n",
       "    </tr>\n",
       "    <tr>\n",
       "      <th>5</th>\n",
       "      <td>10.822001</td>\n",
       "      <td>275.982422</td>\n",
       "      <td>44.257061</td>\n",
       "      <td>328.675140</td>\n",
       "    </tr>\n",
       "    <tr>\n",
       "      <th>6</th>\n",
       "      <td>78.000305</td>\n",
       "      <td>331.760376</td>\n",
       "      <td>95.078972</td>\n",
       "      <td>363.131470</td>\n",
       "    </tr>\n",
       "    <tr>\n",
       "      <th>7</th>\n",
       "      <td>122.502281</td>\n",
       "      <td>265.363861</td>\n",
       "      <td>133.183701</td>\n",
       "      <td>312.102600</td>\n",
       "    </tr>\n",
       "    <tr>\n",
       "      <th>8</th>\n",
       "      <td>38.009098</td>\n",
       "      <td>271.313324</td>\n",
       "      <td>65.628876</td>\n",
       "      <td>397.521759</td>\n",
       "    </tr>\n",
       "    <tr>\n",
       "      <th>9</th>\n",
       "      <td>277.260406</td>\n",
       "      <td>258.584656</td>\n",
       "      <td>318.842987</td>\n",
       "      <td>297.207794</td>\n",
       "    </tr>\n",
       "  </tbody>\n",
       "</table>\n",
       "</div>"
      ],
      "text/plain": [
       "            0           1           2           3\n",
       "0   97.390724  148.184647  601.712585  424.423950\n",
       "1    0.768425  254.941711   50.675457  414.172729\n",
       "2   60.016541  245.518402   96.051254  404.655975\n",
       "3  620.066284  281.208893  638.762695  350.688965\n",
       "4   81.651619  262.936340  117.257454  411.589355\n",
       "5   10.822001  275.982422   44.257061  328.675140\n",
       "6   78.000305  331.760376   95.078972  363.131470\n",
       "7  122.502281  265.363861  133.183701  312.102600\n",
       "8   38.009098  271.313324   65.628876  397.521759\n",
       "9  277.260406  258.584656  318.842987  297.207794"
      ]
     },
     "execution_count": 117,
     "metadata": {},
     "output_type": "execute_result"
    }
   ],
   "source": [
    "bind_boxes_x_y = test.pred_boxes.tensor.cpu().numpy()\n",
    "bind_boxes_x_y = pd.DataFrame(bind_boxes_x_y)\n",
    "bind_boxes_x_y"
   ]
  },
  {
   "cell_type": "code",
   "execution_count": 118,
   "id": "fa60c9f4-1ea3-4e5c-9434-ac1aae262a3c",
   "metadata": {},
   "outputs": [
    {
     "data": {
      "text/plain": [
       "[5, 0, 0, 0, 0, 24, 26, 0, 0, 0]"
      ]
     },
     "execution_count": 118,
     "metadata": {},
     "output_type": "execute_result"
    }
   ],
   "source": [
    "pred_classes = test.pred_classes.tolist()\n",
    "pred_classes"
   ]
  },
  {
   "cell_type": "code",
   "execution_count": 119,
   "id": "69205dec-c6a7-41eb-9e74-ed19a19ca51c",
   "metadata": {},
   "outputs": [
    {
     "data": {
      "text/html": [
       "<div>\n",
       "<style scoped>\n",
       "    .dataframe tbody tr th:only-of-type {\n",
       "        vertical-align: middle;\n",
       "    }\n",
       "\n",
       "    .dataframe tbody tr th {\n",
       "        vertical-align: top;\n",
       "    }\n",
       "\n",
       "    .dataframe thead th {\n",
       "        text-align: right;\n",
       "    }\n",
       "</style>\n",
       "<table border=\"1\" class=\"dataframe\">\n",
       "  <thead>\n",
       "    <tr style=\"text-align: right;\">\n",
       "      <th></th>\n",
       "      <th>class_number</th>\n",
       "      <th>class_name</th>\n",
       "    </tr>\n",
       "  </thead>\n",
       "  <tbody>\n",
       "    <tr>\n",
       "      <th>0</th>\n",
       "      <td>0</td>\n",
       "      <td>person</td>\n",
       "    </tr>\n",
       "    <tr>\n",
       "      <th>1</th>\n",
       "      <td>1</td>\n",
       "      <td>bicycle</td>\n",
       "    </tr>\n",
       "    <tr>\n",
       "      <th>2</th>\n",
       "      <td>2</td>\n",
       "      <td>car</td>\n",
       "    </tr>\n",
       "    <tr>\n",
       "      <th>3</th>\n",
       "      <td>3</td>\n",
       "      <td>motorcycle</td>\n",
       "    </tr>\n",
       "    <tr>\n",
       "      <th>4</th>\n",
       "      <td>4</td>\n",
       "      <td>airplane</td>\n",
       "    </tr>\n",
       "    <tr>\n",
       "      <th>...</th>\n",
       "      <td>...</td>\n",
       "      <td>...</td>\n",
       "    </tr>\n",
       "    <tr>\n",
       "      <th>75</th>\n",
       "      <td>75</td>\n",
       "      <td>vase</td>\n",
       "    </tr>\n",
       "    <tr>\n",
       "      <th>76</th>\n",
       "      <td>76</td>\n",
       "      <td>scissors</td>\n",
       "    </tr>\n",
       "    <tr>\n",
       "      <th>77</th>\n",
       "      <td>77</td>\n",
       "      <td>teddy bear</td>\n",
       "    </tr>\n",
       "    <tr>\n",
       "      <th>78</th>\n",
       "      <td>78</td>\n",
       "      <td>hair drier</td>\n",
       "    </tr>\n",
       "    <tr>\n",
       "      <th>79</th>\n",
       "      <td>79</td>\n",
       "      <td>toothbrush</td>\n",
       "    </tr>\n",
       "  </tbody>\n",
       "</table>\n",
       "<p>80 rows × 2 columns</p>\n",
       "</div>"
      ],
      "text/plain": [
       "    class_number  class_name\n",
       "0              0      person\n",
       "1              1     bicycle\n",
       "2              2         car\n",
       "3              3  motorcycle\n",
       "4              4    airplane\n",
       "..           ...         ...\n",
       "75            75        vase\n",
       "76            76    scissors\n",
       "77            77  teddy bear\n",
       "78            78  hair drier\n",
       "79            79  toothbrush\n",
       "\n",
       "[80 rows x 2 columns]"
      ]
     },
     "execution_count": 119,
     "metadata": {},
     "output_type": "execute_result"
    }
   ],
   "source": [
    "classes = pd.read_csv(\"classes.txt\", sep=\":\").rename(columns={\"{0\": \"class_number\", \" u'__background__',\": \"class_name\"})\n",
    "classes['class_name'] = classes['class_name'].str[3:].str[:-2]\n",
    "classes['class_number'] = classes['class_number'] - 1\n",
    "classes"
   ]
  },
  {
   "cell_type": "code",
   "execution_count": 120,
   "id": "f020d4d3-aa99-4f05-b27e-5dda0b1d484f",
   "metadata": {},
   "outputs": [],
   "source": [
    "pred_classes_dict = dict()\n",
    "pred_classes_list = list()\n",
    "for i in pred_classes:\n",
    "    pred_classes_dict.update({i:classes.iloc[i, 1]})\n",
    "    pred_classes_list.append(classes.iloc[i, 1])"
   ]
  },
  {
   "cell_type": "code",
   "execution_count": 121,
   "id": "bfd67d20-f2e4-4097-98a5-36868b74ab7a",
   "metadata": {},
   "outputs": [
    {
     "data": {
      "text/plain": [
       "{5: 'bus', 0: 'person', 24: 'backpack', 26: 'handbag'}"
      ]
     },
     "execution_count": 121,
     "metadata": {},
     "output_type": "execute_result"
    }
   ],
   "source": [
    "pred_classes_dict"
   ]
  },
  {
   "cell_type": "code",
   "execution_count": 122,
   "id": "672843c2-2a2c-403e-96f5-bddbaf2db71e",
   "metadata": {},
   "outputs": [
    {
     "data": {
      "text/plain": [
       "['bus',\n",
       " 'person',\n",
       " 'person',\n",
       " 'person',\n",
       " 'person',\n",
       " 'backpack',\n",
       " 'handbag',\n",
       " 'person',\n",
       " 'person',\n",
       " 'person']"
      ]
     },
     "execution_count": 122,
     "metadata": {},
     "output_type": "execute_result"
    }
   ],
   "source": [
    "pred_classes_list"
   ]
  },
  {
   "cell_type": "code",
   "execution_count": 124,
   "id": "89233210-2c6b-4c5e-8ac8-3a76fc71fe71",
   "metadata": {},
   "outputs": [
    {
     "data": {
      "text/html": [
       "<div>\n",
       "<style scoped>\n",
       "    .dataframe tbody tr th:only-of-type {\n",
       "        vertical-align: middle;\n",
       "    }\n",
       "\n",
       "    .dataframe tbody tr th {\n",
       "        vertical-align: top;\n",
       "    }\n",
       "\n",
       "    .dataframe thead th {\n",
       "        text-align: right;\n",
       "    }\n",
       "</style>\n",
       "<table border=\"1\" class=\"dataframe\">\n",
       "  <thead>\n",
       "    <tr style=\"text-align: right;\">\n",
       "      <th></th>\n",
       "      <th>classes</th>\n",
       "      <th>scores</th>\n",
       "      <th>x1</th>\n",
       "      <th>y1</th>\n",
       "      <th>x2</th>\n",
       "      <th>y2</th>\n",
       "    </tr>\n",
       "  </thead>\n",
       "  <tbody>\n",
       "    <tr>\n",
       "      <th>0</th>\n",
       "      <td>bus</td>\n",
       "      <td>0.998655</td>\n",
       "      <td>97.390724</td>\n",
       "      <td>148.184647</td>\n",
       "      <td>601.712585</td>\n",
       "      <td>424.423950</td>\n",
       "    </tr>\n",
       "    <tr>\n",
       "      <th>1</th>\n",
       "      <td>person</td>\n",
       "      <td>0.990812</td>\n",
       "      <td>0.768425</td>\n",
       "      <td>254.941711</td>\n",
       "      <td>50.675457</td>\n",
       "      <td>414.172729</td>\n",
       "    </tr>\n",
       "    <tr>\n",
       "      <th>2</th>\n",
       "      <td>person</td>\n",
       "      <td>0.983624</td>\n",
       "      <td>60.016541</td>\n",
       "      <td>245.518402</td>\n",
       "      <td>96.051254</td>\n",
       "      <td>404.655975</td>\n",
       "    </tr>\n",
       "    <tr>\n",
       "      <th>3</th>\n",
       "      <td>person</td>\n",
       "      <td>0.983522</td>\n",
       "      <td>620.066284</td>\n",
       "      <td>281.208893</td>\n",
       "      <td>638.762695</td>\n",
       "      <td>350.688965</td>\n",
       "    </tr>\n",
       "    <tr>\n",
       "      <th>4</th>\n",
       "      <td>person</td>\n",
       "      <td>0.966392</td>\n",
       "      <td>81.651619</td>\n",
       "      <td>262.936340</td>\n",
       "      <td>117.257454</td>\n",
       "      <td>411.589355</td>\n",
       "    </tr>\n",
       "    <tr>\n",
       "      <th>5</th>\n",
       "      <td>backpack</td>\n",
       "      <td>0.959470</td>\n",
       "      <td>10.822001</td>\n",
       "      <td>275.982422</td>\n",
       "      <td>44.257061</td>\n",
       "      <td>328.675140</td>\n",
       "    </tr>\n",
       "    <tr>\n",
       "      <th>6</th>\n",
       "      <td>handbag</td>\n",
       "      <td>0.947232</td>\n",
       "      <td>78.000305</td>\n",
       "      <td>331.760376</td>\n",
       "      <td>95.078972</td>\n",
       "      <td>363.131470</td>\n",
       "    </tr>\n",
       "    <tr>\n",
       "      <th>7</th>\n",
       "      <td>person</td>\n",
       "      <td>0.943385</td>\n",
       "      <td>122.502281</td>\n",
       "      <td>265.363861</td>\n",
       "      <td>133.183701</td>\n",
       "      <td>312.102600</td>\n",
       "    </tr>\n",
       "    <tr>\n",
       "      <th>8</th>\n",
       "      <td>person</td>\n",
       "      <td>0.910443</td>\n",
       "      <td>38.009098</td>\n",
       "      <td>271.313324</td>\n",
       "      <td>65.628876</td>\n",
       "      <td>397.521759</td>\n",
       "    </tr>\n",
       "    <tr>\n",
       "      <th>9</th>\n",
       "      <td>person</td>\n",
       "      <td>0.831605</td>\n",
       "      <td>277.260406</td>\n",
       "      <td>258.584656</td>\n",
       "      <td>318.842987</td>\n",
       "      <td>297.207794</td>\n",
       "    </tr>\n",
       "  </tbody>\n",
       "</table>\n",
       "</div>"
      ],
      "text/plain": [
       "    classes    scores          x1          y1          x2          y2\n",
       "0       bus  0.998655   97.390724  148.184647  601.712585  424.423950\n",
       "1    person  0.990812    0.768425  254.941711   50.675457  414.172729\n",
       "2    person  0.983624   60.016541  245.518402   96.051254  404.655975\n",
       "3    person  0.983522  620.066284  281.208893  638.762695  350.688965\n",
       "4    person  0.966392   81.651619  262.936340  117.257454  411.589355\n",
       "5  backpack  0.959470   10.822001  275.982422   44.257061  328.675140\n",
       "6   handbag  0.947232   78.000305  331.760376   95.078972  363.131470\n",
       "7    person  0.943385  122.502281  265.363861  133.183701  312.102600\n",
       "8    person  0.910443   38.009098  271.313324   65.628876  397.521759\n",
       "9    person  0.831605  277.260406  258.584656  318.842987  297.207794"
      ]
     },
     "execution_count": 124,
     "metadata": {},
     "output_type": "execute_result"
    }
   ],
   "source": [
    "classe_score = pd.concat([pd.DataFrame(\n",
    "    {'classes': pred_classes_list,\n",
    "     'scores': test_scores\n",
    "    }), bind_boxes_x_y], axis=1).rename(columns={0: \"x1\", 1: \"y1\", 2: \"x2\", 3: \"y2\"})\n",
    "classe_score"
   ]
  }
 ],
 "metadata": {
  "kernelspec": {
   "display_name": "my-env",
   "language": "python",
   "name": "python3"
  },
  "language_info": {
   "codemirror_mode": {
    "name": "ipython",
    "version": 3
   },
   "file_extension": ".py",
   "mimetype": "text/x-python",
   "name": "python",
   "nbconvert_exporter": "python",
   "pygments_lexer": "ipython3",
   "version": "3.9.16 (main, Mar  1 2023, 12:19:04) \n[Clang 14.0.6 ]"
  },
  "vscode": {
   "interpreter": {
    "hash": "10b67e088f92b479efd9e8241cf92fe5a9bee2ca24656bcdbefef9139f72a7f4"
   }
  }
 },
 "nbformat": 4,
 "nbformat_minor": 5
}
