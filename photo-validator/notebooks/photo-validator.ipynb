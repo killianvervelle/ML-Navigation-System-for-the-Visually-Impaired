{
 "cells": [
  {
   "cell_type": "code",
   "execution_count": 1,
   "id": "5a96a507",
   "metadata": {},
   "outputs": [],
   "source": [
    "from imutils import paths\n",
    "import cv2\n",
    "import matplotlib.pyplot as plt\n",
    "import numpy\n",
    "import time\n",
    "from sklearn import metrics\n",
    "from sklearn.metrics import f1_score\n",
    "from sklearn.metrics import accuracy_score\n",
    "from sklearn.metrics import recall_score\n",
    "from sklearn.metrics import precision_score"
   ]
  },
  {
   "cell_type": "code",
   "execution_count": 2,
   "id": "d8e662ce",
   "metadata": {},
   "outputs": [],
   "source": [
    "def variance_of_laplacian(image):\n",
    "    return cv2.Laplacian(image, cv2.CV_64F).var()"
   ]
  },
  {
   "cell_type": "code",
   "execution_count": 3,
   "id": "b6db187d",
   "metadata": {},
   "outputs": [],
   "source": [
    "def detect_blur(image, threshold):\n",
    "    gray = cv2.cvtColor(image, cv2.COLOR_BGR2GRAY)\n",
    "    fm = variance_of_laplacian(gray)\n",
    "    if fm < threshold:\n",
    "        return False\n",
    "    else:\n",
    "        return True"
   ]
  },
  {
   "cell_type": "code",
   "execution_count": 4,
   "id": "ee406061",
   "metadata": {},
   "outputs": [],
   "source": [
    "def get_pred(data_path_true, data_path_false, threshold):\n",
    "    y_true = []\n",
    "    y_pred = []\n",
    "    for imagePath in paths.list_images(data_path_true):\n",
    "        image = cv2.imread(imagePath)\n",
    "        y_true.append(True)\n",
    "        y_pred.append(detect_blur(image, threshold))\n",
    "            \n",
    "    for imagePath in paths.list_images(data_path_false):\n",
    "        image = cv2.imread(imagePath)\n",
    "        y_true.append(False)\n",
    "        y_pred.append(detect_blur(image, threshold))\n",
    "    \n",
    "    return y_true, y_pred"
   ]
  },
  {
   "cell_type": "code",
   "execution_count": 5,
   "id": "15ef40ee",
   "metadata": {},
   "outputs": [],
   "source": [
    "def compute_test(data_path_true, data_path_false, threshold):\n",
    "    \n",
    "    st = time.time()\n",
    "    \n",
    "    y_true, y_pred = get_pred(data_path_true, data_path_false, threshold)\n",
    "    \n",
    "    et = time.time()\n",
    "    elapsed_time = et - st\n",
    "    \n",
    "    confusion_matrix = metrics.confusion_matrix(y_true, y_pred)\n",
    "    cm_display = metrics.ConfusionMatrixDisplay(confusion_matrix = confusion_matrix, display_labels = [False, True])\n",
    "    cm_display.plot()\n",
    "    plt.show()\n",
    "    \n",
    "    acc = accuracy_score(y_true, y_pred)\n",
    "    f1 = f1_score(y_true, y_pred, average='macro')\n",
    "    recall = recall_score(y_true, y_pred, average='macro')\n",
    "    precision = precision_score(y_true, y_pred, average='macro')\n",
    "    \n",
    "    print(f\"The accuracy is {acc}, the recall is {recall}, the precision is {precision} and the f1 score is {f1}\")\n",
    "    print(f\"Execution time: {elapsed_time} seconds for {len(y_true)} predictions\")\n",
    "    print(f\"Mean time for one prediction: {elapsed_time/len(y_true)*1000} ms\")"
   ]
  },
  {
   "cell_type": "code",
   "execution_count": null,
   "id": "c8d499fb",
   "metadata": {},
   "outputs": [],
   "source": [
    "threshold = 140\n",
    "compute_test('../data/true', '../data/false', threshold)\n"
   ]
  },
  {
   "cell_type": "code",
   "execution_count": 7,
   "id": "ce313796",
   "metadata": {},
   "outputs": [],
   "source": [
    "def optimize_threshold(data_path_true, data_path_false):\n",
    "    min_thresh = 50\n",
    "    max_thresh = 300\n",
    "    step = 10\n",
    "    best_f1 = 0\n",
    "    best_thresh = 0\n",
    "    \n",
    "    for threshold in range(min_thresh, max_thresh, step):\n",
    "        print(f\"New try with threshold at {threshold}\")\n",
    "        y_true, y_pred = get_pred(data_path_true, data_path_false, threshold)\n",
    "        f1 = f1_score(y_true, y_pred, average='macro')\n",
    "        \n",
    "        if f1 > best_f1:\n",
    "            best_f1 = f1\n",
    "            best_thresh = threshold\n",
    "            \n",
    "    print(f\"The best threshold is {best_thresh} with a f1 score of {best_f1}\")"
   ]
  },
  {
   "cell_type": "code",
   "execution_count": 8,
   "id": "36ce75b4",
   "metadata": {},
   "outputs": [
    {
     "name": "stdout",
     "output_type": "stream",
     "text": [
      "New try with threshold at 50\n",
      "New try with threshold at 60\n",
      "New try with threshold at 70\n",
      "New try with threshold at 80\n",
      "New try with threshold at 90\n",
      "New try with threshold at 100\n",
      "New try with threshold at 110\n",
      "New try with threshold at 120\n",
      "New try with threshold at 130\n",
      "New try with threshold at 140\n",
      "New try with threshold at 150\n",
      "New try with threshold at 160\n",
      "New try with threshold at 170\n",
      "New try with threshold at 180\n",
      "New try with threshold at 190\n",
      "New try with threshold at 200\n",
      "New try with threshold at 210\n",
      "New try with threshold at 220\n",
      "New try with threshold at 230\n",
      "New try with threshold at 240\n",
      "New try with threshold at 250\n",
      "New try with threshold at 260\n",
      "New try with threshold at 270\n",
      "New try with threshold at 280\n",
      "New try with threshold at 290\n",
      "The best threshold is 140 with a f1 score of 0.8083069704326786\n"
     ]
    }
   ],
   "source": [
    "optimize_threshold('../data/true', '../data/false')"
   ]
  },
  {
   "cell_type": "code",
   "execution_count": null,
   "id": "ed42b9e9",
   "metadata": {},
   "outputs": [],
   "source": []
  }
 ],
 "metadata": {
  "kernelspec": {
   "display_name": "Python 3 (ipykernel)",
   "language": "python",
   "name": "python3"
  },
  "language_info": {
   "codemirror_mode": {
    "name": "ipython",
    "version": 3
   },
   "file_extension": ".py",
   "mimetype": "text/x-python",
   "name": "python",
   "nbconvert_exporter": "python",
   "pygments_lexer": "ipython3",
   "version": "3.9.16"
  }
 },
 "nbformat": 4,
 "nbformat_minor": 5
}
